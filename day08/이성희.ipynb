{
 "cells": [
  {
   "cell_type": "markdown",
   "metadata": {},
   "source": [
    "## 1번 문제"
   ]
  },
  {
   "cell_type": "code",
   "execution_count": 1,
   "metadata": {},
   "outputs": [
    {
     "name": "stdout",
     "output_type": "stream",
     "text": [
      "반지름 = 61\n",
      "원의 크기 = 11689.86626400762\n"
     ]
    }
   ],
   "source": [
    "# 1번 문제\n",
    "# 모듈 사용\n",
    "import math\n",
    "\n",
    "PI = 3.141592\n",
    "radius = int(input('반지름 값을 입력하세요 >> '))\n",
    "print(f'반지름 = {radius}')\n",
    "print(f'원의 크기 = {radius*radius*math.pi}')"
   ]
  },
  {
   "cell_type": "markdown",
   "metadata": {},
   "source": [
    "## 2번 문제"
   ]
  },
  {
   "cell_type": "code",
   "execution_count": 2,
   "metadata": {},
   "outputs": [
    {
     "name": "stdout",
     "output_type": "stream",
     "text": [
      "행성 \"Venus\"의 한글 이름은 \"금성\"입니다 \n"
     ]
    }
   ],
   "source": [
    "# 2번 문제\n",
    "# 딕셔너리 활용\n",
    "\n",
    "dict_SolarSystem = { 'Mercury': '수성', 'Venus':'금성', 'Earth': '지구', 'Mars':'화성', 'Jupiter':'목성', 'Sarturn':'토성', 'Uranus':'천왕성', 'Neptune':'해왕성'}\n",
    "\n",
    "name = input('태양계 행성의 영어 이름을 입력하세요 >> ')\n",
    "if name in dict_SolarSystem:\n",
    "    print(f'행성 \"{name}\"의 한글 이름은 \"{dict_SolarSystem[name]}\"입니다 ')\n",
    "else:\n",
    "    print('값을 찾을 수 없습니다')"
   ]
  },
  {
   "cell_type": "markdown",
   "metadata": {},
   "source": [
    "dictionary 활용\n",
    "value 출력하기\n",
    "    - print({dictionary_name}[key])"
   ]
  },
  {
   "cell_type": "markdown",
   "metadata": {},
   "source": [
    "## 3번 문제"
   ]
  },
  {
   "cell_type": "code",
   "execution_count": 4,
   "metadata": {},
   "outputs": [
    {
     "name": "stdout",
     "output_type": "stream",
     "text": [
      "입력한 문장 >> my name is sunghee = 4\n",
      "\n",
      "문장 변환 결과 >> my NAME is SUNGHEE "
     ]
    }
   ],
   "source": [
    "# 3번 문제\n",
    "# .split(), .upper(), for문 활용\n",
    "\n",
    "\n",
    "eng_input = input('영어 문장을 입력하세요 >> ')\n",
    "eng_words = eng_input.split(' ')\n",
    "print(f'문장의 단어 갯수 >> {eng_input} = {len(eng_words)}개')\n",
    "print()\n",
    "\n",
    "print('문장 변환 결과 >> ', end='')\n",
    "for i in range (0, len(eng_words)):\n",
    "    if i % 2 == 0:\n",
    "        print(f'{eng_words[i]}', end=' ')\n",
    "    else:\n",
    "        print(f'{eng_words[i].upper()}', end=' ')"
   ]
  },
  {
   "cell_type": "code",
   "execution_count": null,
   "metadata": {},
   "outputs": [],
   "source": [
    "# 3번 문제 풀이\n",
    "\n",
    "sentence = input('영어 문장 입력 > ')\n",
    "sentences = sentence.split(' ')\n",
    "print(f'단어 수 : {len(sentence)}')\n",
    "\n",
    "num = 1\n",
    "for i in sentences:\n",
    "    if (num % 2 == 0):\n",
    "        print(i.upper(), end=' ')\n",
    "    else:\n",
    "        print(i, end='')\n",
    "    num += 1"
   ]
  },
  {
   "cell_type": "markdown",
   "metadata": {},
   "source": [
    "## 4번 문제"
   ]
  },
  {
   "cell_type": "code",
   "execution_count": 29,
   "metadata": {},
   "outputs": [
    {
     "name": "stdout",
     "output_type": "stream",
     "text": [
      "영문 이름 웹사이트 주소 변환기\n",
      "www.adfadf.com\n"
     ]
    }
   ],
   "source": [
    "# 4번 문제\n",
    "# 함수 만들기\n",
    "\n",
    "def get_url(name):\n",
    "    return f'www.{name}.com'\n",
    "\n",
    "print('영문 이름 웹사이트 주소 변환기')\n",
    "name_input = input('영문 이름을 입력하세요 >> ')\n",
    "url = get_url(name_input)\n",
    "print(url)"
   ]
  },
  {
   "cell_type": "markdown",
   "metadata": {},
   "source": [
    "## 5번 문제"
   ]
  },
  {
   "cell_type": "code",
   "execution_count": 24,
   "metadata": {},
   "outputs": [
    {
     "name": "stdout",
     "output_type": "stream",
     "text": [
      "<<구구단 프로그램>>\n",
      "-- 11단 --\n",
      "11 22 33 44 55 66 77 88 99 "
     ]
    }
   ],
   "source": [
    "# 5번 문제\n",
    "\n",
    "print('<<구구단 나열 프로그램>>')\n",
    "x = int(input('수행할 단번호를 입력하세요(* 숫자만 입력) >> '))\n",
    "print(f'-- {x}단 --')\n",
    "for i in range(1,9+1): # 1부터 9까지 반복\n",
    "    print(f'{(x)*i:2d}', end=' ')"
   ]
  },
  {
   "cell_type": "markdown",
   "metadata": {},
   "source": []
  }
 ],
 "metadata": {
  "kernelspec": {
   "display_name": "Python 3",
   "language": "python",
   "name": "python3"
  },
  "language_info": {
   "codemirror_mode": {
    "name": "ipython",
    "version": 3
   },
   "file_extension": ".py",
   "mimetype": "text/x-python",
   "name": "python",
   "nbconvert_exporter": "python",
   "pygments_lexer": "ipython3",
   "version": "3.11.5"
  }
 },
 "nbformat": 4,
 "nbformat_minor": 2
}
